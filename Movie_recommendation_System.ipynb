{
  "nbformat": 4,
  "nbformat_minor": 0,
  "metadata": {
    "colab": {
      "provenance": []
    },
    "kernelspec": {
      "name": "python3",
      "display_name": "Python 3"
    },
    "language_info": {
      "name": "python"
    }
  },
  "cells": [
    {
      "cell_type": "code",
      "execution_count": 4,
      "metadata": {
        "id": "1DqTm4bSoumo"
      },
      "outputs": [],
      "source": [
        "import numpy as np\n",
        "import pandas as pd"
      ]
    },
    {
      "cell_type": "markdown",
      "source": [
        "<h1> Import Dataset </h1>"
      ],
      "metadata": {
        "id": "zrugueZ5o0QX"
      }
    },
    {
      "cell_type": "code",
      "source": [
        "df = pd.read_csv('/content/sample_data/Movies Recommendation.csv')"
      ],
      "metadata": {
        "id": "NKHdWvaTo4wh"
      },
      "execution_count": 18,
      "outputs": []
    },
    {
      "cell_type": "code",
      "source": [
        "df.head()"
      ],
      "metadata": {
        "colab": {
          "base_uri": "https://localhost:8080/",
          "height": 672
        },
        "id": "hZZL9xftpL-9",
        "outputId": "4c8413ab-d791-4210-b9d9-7bf20c2fa8c0"
      },
      "execution_count": 15,
      "outputs": [
        {
          "output_type": "execute_result",
          "data": {
            "text/plain": [
              "   Movie_ID      Movie_Title                       Movie_Genre Movie_Language  \\\n",
              "0         1       Four Rooms                      Crime Comedy             en   \n",
              "1         2        Star Wars  Adventure Action Science Fiction             en   \n",
              "2         3     Finding Nemo                  Animation Family             en   \n",
              "3         4     Forrest Gump              Comedy Drama Romance             en   \n",
              "4         5  American Beauty                             Drama             en   \n",
              "\n",
              "   Movie_Budget  Movie_Popularity Movie_Release_Date  Movie_Revenue  \\\n",
              "0       4000000         22.876230         09-12-1995        4300000   \n",
              "1      11000000        126.393695         25-05-1977      775398007   \n",
              "2      94000000         85.688789         30-05-2003      940335536   \n",
              "3      55000000        138.133331         06-07-1994      677945399   \n",
              "4      15000000         80.878605         15-09-1999      356296601   \n",
              "\n",
              "   Movie_Runtime  Movie_Vote  ...  \\\n",
              "0             98         6.5  ...   \n",
              "1            121         8.1  ...   \n",
              "2            100         7.6  ...   \n",
              "3            142         8.2  ...   \n",
              "4            122         7.9  ...   \n",
              "\n",
              "                                      Movie_Homepage  \\\n",
              "0                                                NaN   \n",
              "1  http://www.starwars.com/films/star-wars-episod...   \n",
              "2              http://movies.disney.com/finding-nemo   \n",
              "3                                                NaN   \n",
              "4                      http://www.dreamworks.com/ab/   \n",
              "\n",
              "                                      Movie_Keywords  \\\n",
              "0          hotel new year's eve witch bet hotel room   \n",
              "1        android galaxy hermit death star lightsaber   \n",
              "2  father son relationship harbor underwater fish...   \n",
              "3  vietnam veteran hippie mentally disabled runni...   \n",
              "4  male nudity female nudity adultery midlife cri...   \n",
              "\n",
              "                                      Movie_Overview  \\\n",
              "0  It's Ted the Bellhop's first night on the job....   \n",
              "1  Princess Leia is captured and held hostage by ...   \n",
              "2  Nemo, an adventurous young clownfish, is unexp...   \n",
              "3  A man with a low IQ has accomplished great thi...   \n",
              "4  Lester Burnham, a depressed suburban father in...   \n",
              "\n",
              "                              Movie_Production_House  \\\n",
              "0  [{\"name\": \"Miramax Films\", \"id\": 14}, {\"name\":...   \n",
              "1  [{\"name\": \"Lucasfilm\", \"id\": 1}, {\"name\": \"Twe...   \n",
              "2     [{\"name\": \"Pixar Animation Studios\", \"id\": 3}]   \n",
              "3          [{\"name\": \"Paramount Pictures\", \"id\": 4}]   \n",
              "4  [{\"name\": \"DreamWorks SKG\", \"id\": 27}, {\"name\"...   \n",
              "\n",
              "                            Movie_Production_Country  \\\n",
              "0  [{\"iso_3166_1\": \"US\", \"name\": \"United States o...   \n",
              "1  [{\"iso_3166_1\": \"US\", \"name\": \"United States o...   \n",
              "2  [{\"iso_3166_1\": \"US\", \"name\": \"United States o...   \n",
              "3  [{\"iso_3166_1\": \"US\", \"name\": \"United States o...   \n",
              "4  [{\"iso_3166_1\": \"US\", \"name\": \"United States o...   \n",
              "\n",
              "                      Movie_Spoken_Language  \\\n",
              "0  [{\"iso_639_1\": \"en\", \"name\": \"English\"}]   \n",
              "1  [{\"iso_639_1\": \"en\", \"name\": \"English\"}]   \n",
              "2  [{\"iso_639_1\": \"en\", \"name\": \"English\"}]   \n",
              "3  [{\"iso_639_1\": \"en\", \"name\": \"English\"}]   \n",
              "4  [{\"iso_639_1\": \"en\", \"name\": \"English\"}]   \n",
              "\n",
              "                                       Movie_Tagline  \\\n",
              "0  Twelve outrageous guests. Four scandalous requ...   \n",
              "1       A long time ago in a galaxy far, far away...   \n",
              "2  There are 3.7 trillion fish in the ocean, they...   \n",
              "3  The world will never be the same, once you've ...   \n",
              "4                                       Look closer.   \n",
              "\n",
              "                                          Movie_Cast  \\\n",
              "0  Tim Roth Antonio Banderas Jennifer Beals Madon...   \n",
              "1  Mark Hamill Harrison Ford Carrie Fisher Peter ...   \n",
              "2  Albert Brooks Ellen DeGeneres Alexander Gould ...   \n",
              "3  Tom Hanks Robin Wright Gary Sinise Mykelti Wil...   \n",
              "4  Kevin Spacey Annette Bening Thora Birch Wes Be...   \n",
              "\n",
              "                                          Movie_Crew   Movie_Director  \n",
              "0  [{'name': 'Allison Anders', 'gender': 1, 'depa...   Allison Anders  \n",
              "1  [{'name': 'George Lucas', 'gender': 2, 'depart...     George Lucas  \n",
              "2  [{'name': 'Andrew Stanton', 'gender': 2, 'depa...   Andrew Stanton  \n",
              "3  [{'name': 'Alan Silvestri', 'gender': 2, 'depa...  Robert Zemeckis  \n",
              "4  [{'name': 'Thomas Newman', 'gender': 2, 'depar...       Sam Mendes  \n",
              "\n",
              "[5 rows x 21 columns]"
            ],
            "text/html": [
              "\n",
              "  <div id=\"df-50850f2e-f748-439a-b4de-b49476f10010\" class=\"colab-df-container\">\n",
              "    <div>\n",
              "<style scoped>\n",
              "    .dataframe tbody tr th:only-of-type {\n",
              "        vertical-align: middle;\n",
              "    }\n",
              "\n",
              "    .dataframe tbody tr th {\n",
              "        vertical-align: top;\n",
              "    }\n",
              "\n",
              "    .dataframe thead th {\n",
              "        text-align: right;\n",
              "    }\n",
              "</style>\n",
              "<table border=\"1\" class=\"dataframe\">\n",
              "  <thead>\n",
              "    <tr style=\"text-align: right;\">\n",
              "      <th></th>\n",
              "      <th>Movie_ID</th>\n",
              "      <th>Movie_Title</th>\n",
              "      <th>Movie_Genre</th>\n",
              "      <th>Movie_Language</th>\n",
              "      <th>Movie_Budget</th>\n",
              "      <th>Movie_Popularity</th>\n",
              "      <th>Movie_Release_Date</th>\n",
              "      <th>Movie_Revenue</th>\n",
              "      <th>Movie_Runtime</th>\n",
              "      <th>Movie_Vote</th>\n",
              "      <th>...</th>\n",
              "      <th>Movie_Homepage</th>\n",
              "      <th>Movie_Keywords</th>\n",
              "      <th>Movie_Overview</th>\n",
              "      <th>Movie_Production_House</th>\n",
              "      <th>Movie_Production_Country</th>\n",
              "      <th>Movie_Spoken_Language</th>\n",
              "      <th>Movie_Tagline</th>\n",
              "      <th>Movie_Cast</th>\n",
              "      <th>Movie_Crew</th>\n",
              "      <th>Movie_Director</th>\n",
              "    </tr>\n",
              "  </thead>\n",
              "  <tbody>\n",
              "    <tr>\n",
              "      <th>0</th>\n",
              "      <td>1</td>\n",
              "      <td>Four Rooms</td>\n",
              "      <td>Crime Comedy</td>\n",
              "      <td>en</td>\n",
              "      <td>4000000</td>\n",
              "      <td>22.876230</td>\n",
              "      <td>09-12-1995</td>\n",
              "      <td>4300000</td>\n",
              "      <td>98</td>\n",
              "      <td>6.5</td>\n",
              "      <td>...</td>\n",
              "      <td>NaN</td>\n",
              "      <td>hotel new year's eve witch bet hotel room</td>\n",
              "      <td>It's Ted the Bellhop's first night on the job....</td>\n",
              "      <td>[{\"name\": \"Miramax Films\", \"id\": 14}, {\"name\":...</td>\n",
              "      <td>[{\"iso_3166_1\": \"US\", \"name\": \"United States o...</td>\n",
              "      <td>[{\"iso_639_1\": \"en\", \"name\": \"English\"}]</td>\n",
              "      <td>Twelve outrageous guests. Four scandalous requ...</td>\n",
              "      <td>Tim Roth Antonio Banderas Jennifer Beals Madon...</td>\n",
              "      <td>[{'name': 'Allison Anders', 'gender': 1, 'depa...</td>\n",
              "      <td>Allison Anders</td>\n",
              "    </tr>\n",
              "    <tr>\n",
              "      <th>1</th>\n",
              "      <td>2</td>\n",
              "      <td>Star Wars</td>\n",
              "      <td>Adventure Action Science Fiction</td>\n",
              "      <td>en</td>\n",
              "      <td>11000000</td>\n",
              "      <td>126.393695</td>\n",
              "      <td>25-05-1977</td>\n",
              "      <td>775398007</td>\n",
              "      <td>121</td>\n",
              "      <td>8.1</td>\n",
              "      <td>...</td>\n",
              "      <td>http://www.starwars.com/films/star-wars-episod...</td>\n",
              "      <td>android galaxy hermit death star lightsaber</td>\n",
              "      <td>Princess Leia is captured and held hostage by ...</td>\n",
              "      <td>[{\"name\": \"Lucasfilm\", \"id\": 1}, {\"name\": \"Twe...</td>\n",
              "      <td>[{\"iso_3166_1\": \"US\", \"name\": \"United States o...</td>\n",
              "      <td>[{\"iso_639_1\": \"en\", \"name\": \"English\"}]</td>\n",
              "      <td>A long time ago in a galaxy far, far away...</td>\n",
              "      <td>Mark Hamill Harrison Ford Carrie Fisher Peter ...</td>\n",
              "      <td>[{'name': 'George Lucas', 'gender': 2, 'depart...</td>\n",
              "      <td>George Lucas</td>\n",
              "    </tr>\n",
              "    <tr>\n",
              "      <th>2</th>\n",
              "      <td>3</td>\n",
              "      <td>Finding Nemo</td>\n",
              "      <td>Animation Family</td>\n",
              "      <td>en</td>\n",
              "      <td>94000000</td>\n",
              "      <td>85.688789</td>\n",
              "      <td>30-05-2003</td>\n",
              "      <td>940335536</td>\n",
              "      <td>100</td>\n",
              "      <td>7.6</td>\n",
              "      <td>...</td>\n",
              "      <td>http://movies.disney.com/finding-nemo</td>\n",
              "      <td>father son relationship harbor underwater fish...</td>\n",
              "      <td>Nemo, an adventurous young clownfish, is unexp...</td>\n",
              "      <td>[{\"name\": \"Pixar Animation Studios\", \"id\": 3}]</td>\n",
              "      <td>[{\"iso_3166_1\": \"US\", \"name\": \"United States o...</td>\n",
              "      <td>[{\"iso_639_1\": \"en\", \"name\": \"English\"}]</td>\n",
              "      <td>There are 3.7 trillion fish in the ocean, they...</td>\n",
              "      <td>Albert Brooks Ellen DeGeneres Alexander Gould ...</td>\n",
              "      <td>[{'name': 'Andrew Stanton', 'gender': 2, 'depa...</td>\n",
              "      <td>Andrew Stanton</td>\n",
              "    </tr>\n",
              "    <tr>\n",
              "      <th>3</th>\n",
              "      <td>4</td>\n",
              "      <td>Forrest Gump</td>\n",
              "      <td>Comedy Drama Romance</td>\n",
              "      <td>en</td>\n",
              "      <td>55000000</td>\n",
              "      <td>138.133331</td>\n",
              "      <td>06-07-1994</td>\n",
              "      <td>677945399</td>\n",
              "      <td>142</td>\n",
              "      <td>8.2</td>\n",
              "      <td>...</td>\n",
              "      <td>NaN</td>\n",
              "      <td>vietnam veteran hippie mentally disabled runni...</td>\n",
              "      <td>A man with a low IQ has accomplished great thi...</td>\n",
              "      <td>[{\"name\": \"Paramount Pictures\", \"id\": 4}]</td>\n",
              "      <td>[{\"iso_3166_1\": \"US\", \"name\": \"United States o...</td>\n",
              "      <td>[{\"iso_639_1\": \"en\", \"name\": \"English\"}]</td>\n",
              "      <td>The world will never be the same, once you've ...</td>\n",
              "      <td>Tom Hanks Robin Wright Gary Sinise Mykelti Wil...</td>\n",
              "      <td>[{'name': 'Alan Silvestri', 'gender': 2, 'depa...</td>\n",
              "      <td>Robert Zemeckis</td>\n",
              "    </tr>\n",
              "    <tr>\n",
              "      <th>4</th>\n",
              "      <td>5</td>\n",
              "      <td>American Beauty</td>\n",
              "      <td>Drama</td>\n",
              "      <td>en</td>\n",
              "      <td>15000000</td>\n",
              "      <td>80.878605</td>\n",
              "      <td>15-09-1999</td>\n",
              "      <td>356296601</td>\n",
              "      <td>122</td>\n",
              "      <td>7.9</td>\n",
              "      <td>...</td>\n",
              "      <td>http://www.dreamworks.com/ab/</td>\n",
              "      <td>male nudity female nudity adultery midlife cri...</td>\n",
              "      <td>Lester Burnham, a depressed suburban father in...</td>\n",
              "      <td>[{\"name\": \"DreamWorks SKG\", \"id\": 27}, {\"name\"...</td>\n",
              "      <td>[{\"iso_3166_1\": \"US\", \"name\": \"United States o...</td>\n",
              "      <td>[{\"iso_639_1\": \"en\", \"name\": \"English\"}]</td>\n",
              "      <td>Look closer.</td>\n",
              "      <td>Kevin Spacey Annette Bening Thora Birch Wes Be...</td>\n",
              "      <td>[{'name': 'Thomas Newman', 'gender': 2, 'depar...</td>\n",
              "      <td>Sam Mendes</td>\n",
              "    </tr>\n",
              "  </tbody>\n",
              "</table>\n",
              "<p>5 rows × 21 columns</p>\n",
              "</div>\n",
              "    <div class=\"colab-df-buttons\">\n",
              "\n",
              "  <div class=\"colab-df-container\">\n",
              "    <button class=\"colab-df-convert\" onclick=\"convertToInteractive('df-50850f2e-f748-439a-b4de-b49476f10010')\"\n",
              "            title=\"Convert this dataframe to an interactive table.\"\n",
              "            style=\"display:none;\">\n",
              "\n",
              "  <svg xmlns=\"http://www.w3.org/2000/svg\" height=\"24px\" viewBox=\"0 -960 960 960\">\n",
              "    <path d=\"M120-120v-720h720v720H120Zm60-500h600v-160H180v160Zm220 220h160v-160H400v160Zm0 220h160v-160H400v160ZM180-400h160v-160H180v160Zm440 0h160v-160H620v160ZM180-180h160v-160H180v160Zm440 0h160v-160H620v160Z\"/>\n",
              "  </svg>\n",
              "    </button>\n",
              "\n",
              "  <style>\n",
              "    .colab-df-container {\n",
              "      display:flex;\n",
              "      gap: 12px;\n",
              "    }\n",
              "\n",
              "    .colab-df-convert {\n",
              "      background-color: #E8F0FE;\n",
              "      border: none;\n",
              "      border-radius: 50%;\n",
              "      cursor: pointer;\n",
              "      display: none;\n",
              "      fill: #1967D2;\n",
              "      height: 32px;\n",
              "      padding: 0 0 0 0;\n",
              "      width: 32px;\n",
              "    }\n",
              "\n",
              "    .colab-df-convert:hover {\n",
              "      background-color: #E2EBFA;\n",
              "      box-shadow: 0px 1px 2px rgba(60, 64, 67, 0.3), 0px 1px 3px 1px rgba(60, 64, 67, 0.15);\n",
              "      fill: #174EA6;\n",
              "    }\n",
              "\n",
              "    .colab-df-buttons div {\n",
              "      margin-bottom: 4px;\n",
              "    }\n",
              "\n",
              "    [theme=dark] .colab-df-convert {\n",
              "      background-color: #3B4455;\n",
              "      fill: #D2E3FC;\n",
              "    }\n",
              "\n",
              "    [theme=dark] .colab-df-convert:hover {\n",
              "      background-color: #434B5C;\n",
              "      box-shadow: 0px 1px 3px 1px rgba(0, 0, 0, 0.15);\n",
              "      filter: drop-shadow(0px 1px 2px rgba(0, 0, 0, 0.3));\n",
              "      fill: #FFFFFF;\n",
              "    }\n",
              "  </style>\n",
              "\n",
              "    <script>\n",
              "      const buttonEl =\n",
              "        document.querySelector('#df-50850f2e-f748-439a-b4de-b49476f10010 button.colab-df-convert');\n",
              "      buttonEl.style.display =\n",
              "        google.colab.kernel.accessAllowed ? 'block' : 'none';\n",
              "\n",
              "      async function convertToInteractive(key) {\n",
              "        const element = document.querySelector('#df-50850f2e-f748-439a-b4de-b49476f10010');\n",
              "        const dataTable =\n",
              "          await google.colab.kernel.invokeFunction('convertToInteractive',\n",
              "                                                    [key], {});\n",
              "        if (!dataTable) return;\n",
              "\n",
              "        const docLinkHtml = 'Like what you see? Visit the ' +\n",
              "          '<a target=\"_blank\" href=https://colab.research.google.com/notebooks/data_table.ipynb>data table notebook</a>'\n",
              "          + ' to learn more about interactive tables.';\n",
              "        element.innerHTML = '';\n",
              "        dataTable['output_type'] = 'display_data';\n",
              "        await google.colab.output.renderOutput(dataTable, element);\n",
              "        const docLink = document.createElement('div');\n",
              "        docLink.innerHTML = docLinkHtml;\n",
              "        element.appendChild(docLink);\n",
              "      }\n",
              "    </script>\n",
              "  </div>\n",
              "\n",
              "\n",
              "<div id=\"df-4b03bf50-520d-4449-b82a-ab8372e9fca4\">\n",
              "  <button class=\"colab-df-quickchart\" onclick=\"quickchart('df-4b03bf50-520d-4449-b82a-ab8372e9fca4')\"\n",
              "            title=\"Suggest charts.\"\n",
              "            style=\"display:none;\">\n",
              "\n",
              "<svg xmlns=\"http://www.w3.org/2000/svg\" height=\"24px\"viewBox=\"0 0 24 24\"\n",
              "     width=\"24px\">\n",
              "    <g>\n",
              "        <path d=\"M19 3H5c-1.1 0-2 .9-2 2v14c0 1.1.9 2 2 2h14c1.1 0 2-.9 2-2V5c0-1.1-.9-2-2-2zM9 17H7v-7h2v7zm4 0h-2V7h2v10zm4 0h-2v-4h2v4z\"/>\n",
              "    </g>\n",
              "</svg>\n",
              "  </button>\n",
              "\n",
              "<style>\n",
              "  .colab-df-quickchart {\n",
              "      --bg-color: #E8F0FE;\n",
              "      --fill-color: #1967D2;\n",
              "      --hover-bg-color: #E2EBFA;\n",
              "      --hover-fill-color: #174EA6;\n",
              "      --disabled-fill-color: #AAA;\n",
              "      --disabled-bg-color: #DDD;\n",
              "  }\n",
              "\n",
              "  [theme=dark] .colab-df-quickchart {\n",
              "      --bg-color: #3B4455;\n",
              "      --fill-color: #D2E3FC;\n",
              "      --hover-bg-color: #434B5C;\n",
              "      --hover-fill-color: #FFFFFF;\n",
              "      --disabled-bg-color: #3B4455;\n",
              "      --disabled-fill-color: #666;\n",
              "  }\n",
              "\n",
              "  .colab-df-quickchart {\n",
              "    background-color: var(--bg-color);\n",
              "    border: none;\n",
              "    border-radius: 50%;\n",
              "    cursor: pointer;\n",
              "    display: none;\n",
              "    fill: var(--fill-color);\n",
              "    height: 32px;\n",
              "    padding: 0;\n",
              "    width: 32px;\n",
              "  }\n",
              "\n",
              "  .colab-df-quickchart:hover {\n",
              "    background-color: var(--hover-bg-color);\n",
              "    box-shadow: 0 1px 2px rgba(60, 64, 67, 0.3), 0 1px 3px 1px rgba(60, 64, 67, 0.15);\n",
              "    fill: var(--button-hover-fill-color);\n",
              "  }\n",
              "\n",
              "  .colab-df-quickchart-complete:disabled,\n",
              "  .colab-df-quickchart-complete:disabled:hover {\n",
              "    background-color: var(--disabled-bg-color);\n",
              "    fill: var(--disabled-fill-color);\n",
              "    box-shadow: none;\n",
              "  }\n",
              "\n",
              "  .colab-df-spinner {\n",
              "    border: 2px solid var(--fill-color);\n",
              "    border-color: transparent;\n",
              "    border-bottom-color: var(--fill-color);\n",
              "    animation:\n",
              "      spin 1s steps(1) infinite;\n",
              "  }\n",
              "\n",
              "  @keyframes spin {\n",
              "    0% {\n",
              "      border-color: transparent;\n",
              "      border-bottom-color: var(--fill-color);\n",
              "      border-left-color: var(--fill-color);\n",
              "    }\n",
              "    20% {\n",
              "      border-color: transparent;\n",
              "      border-left-color: var(--fill-color);\n",
              "      border-top-color: var(--fill-color);\n",
              "    }\n",
              "    30% {\n",
              "      border-color: transparent;\n",
              "      border-left-color: var(--fill-color);\n",
              "      border-top-color: var(--fill-color);\n",
              "      border-right-color: var(--fill-color);\n",
              "    }\n",
              "    40% {\n",
              "      border-color: transparent;\n",
              "      border-right-color: var(--fill-color);\n",
              "      border-top-color: var(--fill-color);\n",
              "    }\n",
              "    60% {\n",
              "      border-color: transparent;\n",
              "      border-right-color: var(--fill-color);\n",
              "    }\n",
              "    80% {\n",
              "      border-color: transparent;\n",
              "      border-right-color: var(--fill-color);\n",
              "      border-bottom-color: var(--fill-color);\n",
              "    }\n",
              "    90% {\n",
              "      border-color: transparent;\n",
              "      border-bottom-color: var(--fill-color);\n",
              "    }\n",
              "  }\n",
              "</style>\n",
              "\n",
              "  <script>\n",
              "    async function quickchart(key) {\n",
              "      const quickchartButtonEl =\n",
              "        document.querySelector('#' + key + ' button');\n",
              "      quickchartButtonEl.disabled = true;  // To prevent multiple clicks.\n",
              "      quickchartButtonEl.classList.add('colab-df-spinner');\n",
              "      try {\n",
              "        const charts = await google.colab.kernel.invokeFunction(\n",
              "            'suggestCharts', [key], {});\n",
              "      } catch (error) {\n",
              "        console.error('Error during call to suggestCharts:', error);\n",
              "      }\n",
              "      quickchartButtonEl.classList.remove('colab-df-spinner');\n",
              "      quickchartButtonEl.classList.add('colab-df-quickchart-complete');\n",
              "    }\n",
              "    (() => {\n",
              "      let quickchartButtonEl =\n",
              "        document.querySelector('#df-4b03bf50-520d-4449-b82a-ab8372e9fca4 button');\n",
              "      quickchartButtonEl.style.display =\n",
              "        google.colab.kernel.accessAllowed ? 'block' : 'none';\n",
              "    })();\n",
              "  </script>\n",
              "</div>\n",
              "    </div>\n",
              "  </div>\n"
            ]
          },
          "metadata": {},
          "execution_count": 15
        }
      ]
    },
    {
      "cell_type": "code",
      "source": [
        "df.info()"
      ],
      "metadata": {
        "colab": {
          "base_uri": "https://localhost:8080/"
        },
        "id": "K7jZ-UqMrjIm",
        "outputId": "2211bc50-123a-4ecc-b53a-2029d8679433"
      },
      "execution_count": 19,
      "outputs": [
        {
          "output_type": "stream",
          "name": "stdout",
          "text": [
            "<class 'pandas.core.frame.DataFrame'>\n",
            "RangeIndex: 272 entries, 0 to 271\n",
            "Data columns (total 21 columns):\n",
            " #   Column                    Non-Null Count  Dtype  \n",
            "---  ------                    --------------  -----  \n",
            " 0   Movie_ID                  272 non-null    int64  \n",
            " 1   Movie_Title               272 non-null    object \n",
            " 2   Movie_Genre               272 non-null    object \n",
            " 3   Movie_Language            272 non-null    object \n",
            " 4   Movie_Budget              272 non-null    int64  \n",
            " 5   Movie_Popularity          272 non-null    float64\n",
            " 6   Movie_Release_Date        272 non-null    object \n",
            " 7   Movie_Revenue             272 non-null    int64  \n",
            " 8   Movie_Runtime             272 non-null    int64  \n",
            " 9   Movie_Vote                272 non-null    float64\n",
            " 10  Movie_Vote_Count          272 non-null    int64  \n",
            " 11  Movie_Homepage            121 non-null    object \n",
            " 12  Movie_Keywords            271 non-null    object \n",
            " 13  Movie_Overview            272 non-null    object \n",
            " 14  Movie_Production_House    272 non-null    object \n",
            " 15  Movie_Production_Country  272 non-null    object \n",
            " 16  Movie_Spoken_Language     272 non-null    object \n",
            " 17  Movie_Tagline             257 non-null    object \n",
            " 18  Movie_Cast                271 non-null    object \n",
            " 19  Movie_Crew                271 non-null    object \n",
            " 20  Movie_Director            269 non-null    object \n",
            "dtypes: float64(2), int64(5), object(14)\n",
            "memory usage: 44.8+ KB\n"
          ]
        }
      ]
    },
    {
      "cell_type": "markdown",
      "source": [
        "<h1>Get Feature Selection</h1>"
      ],
      "metadata": {
        "id": "5eLTgzG_r4zx"
      }
    },
    {
      "cell_type": "code",
      "source": [
        "df_features= df[['Movie_Genre','Movie_Keywords','Movie_Tagline','Movie_Cast','Movie_Director']].fillna('')"
      ],
      "metadata": {
        "id": "ON28wAMCtf3y"
      },
      "execution_count": 35,
      "outputs": []
    },
    {
      "cell_type": "markdown",
      "source": [],
      "metadata": {
        "id": "L0-Bu-iHusRI"
      }
    },
    {
      "cell_type": "code",
      "source": [
        "df_features.shape"
      ],
      "metadata": {
        "colab": {
          "base_uri": "https://localhost:8080/"
        },
        "id": "nPsxmlsZus84",
        "outputId": "15d01640-6186-4f72-acf8-0675bbc9f7b4"
      },
      "execution_count": 36,
      "outputs": [
        {
          "output_type": "execute_result",
          "data": {
            "text/plain": [
              "(272, 5)"
            ]
          },
          "metadata": {},
          "execution_count": 36
        }
      ]
    },
    {
      "cell_type": "code",
      "source": [
        "df_features"
      ],
      "metadata": {
        "colab": {
          "base_uri": "https://localhost:8080/",
          "height": 1000
        },
        "id": "6z5UfdGjuyO6",
        "outputId": "3fdc5157-1e93-4f9d-e721-c68dd3ee4c36"
      },
      "execution_count": 37,
      "outputs": [
        {
          "output_type": "execute_result",
          "data": {
            "text/plain": [
              "                             Movie_Genre  \\\n",
              "0                           Crime Comedy   \n",
              "1       Adventure Action Science Fiction   \n",
              "2                       Animation Family   \n",
              "3                   Comedy Drama Romance   \n",
              "4                                  Drama   \n",
              "..                                   ...   \n",
              "267                    Drama History War   \n",
              "268                                Drama   \n",
              "269             Drama Action War History   \n",
              "270                  Crime Drama Mystery   \n",
              "271  Thriller Action Drama Music Romance   \n",
              "\n",
              "                                        Movie_Keywords  \\\n",
              "0            hotel new year's eve witch bet hotel room   \n",
              "1          android galaxy hermit death star lightsaber   \n",
              "2    father son relationship harbor underwater fish...   \n",
              "3    vietnam veteran hippie mentally disabled runni...   \n",
              "4    male nudity female nudity adultery midlife cri...   \n",
              "..                                                 ...   \n",
              "267              berlin poison dictator clerk ideology   \n",
              "268  christianity jewry roman empire jesus christ s...   \n",
              "269  japan war crimes sense of guilt swordplay general   \n",
              "270      upper class poison sailboat rape sexual abuse   \n",
              "271  sister sister relationship anonymous letter di...   \n",
              "\n",
              "                                         Movie_Tagline  \\\n",
              "0    Twelve outrageous guests. Four scandalous requ...   \n",
              "1         A long time ago in a galaxy far, far away...   \n",
              "2    There are 3.7 trillion fish in the ocean, they...   \n",
              "3    The world will never be the same, once you've ...   \n",
              "4                                         Look closer.   \n",
              "..                                                 ...   \n",
              "267         April 1945, a nation awaits its...Downfall   \n",
              "268                     By his wounds, we were healed.   \n",
              "269  In the face of an enemy, in the heart of one m...   \n",
              "270                    They're dying to play with you.   \n",
              "271                     Never let her out of your sigh   \n",
              "\n",
              "                                            Movie_Cast       Movie_Director  \n",
              "0    Tim Roth Antonio Banderas Jennifer Beals Madon...       Allison Anders  \n",
              "1    Mark Hamill Harrison Ford Carrie Fisher Peter ...         George Lucas  \n",
              "2    Albert Brooks Ellen DeGeneres Alexander Gould ...       Andrew Stanton  \n",
              "3    Tom Hanks Robin Wright Gary Sinise Mykelti Wil...      Robert Zemeckis  \n",
              "4    Kevin Spacey Annette Bening Thora Birch Wes Be...           Sam Mendes  \n",
              "..                                                 ...                  ...  \n",
              "267  Bruno Ganz Alexandra Maria Lara Corinna Harfou...  Oliver Hirschbiegel  \n",
              "268  Jim Caviezel Maia Morgenstern Monica Bellucci ...           Mel Gibson  \n",
              "269  Tom Cruise Ken Watanabe William Atherton Chad ...         Edward Zwick  \n",
              "270  Matt Dillon Kevin Bacon Denise Richards Neve C...      John McNaughton  \n",
              "271                                                                          \n",
              "\n",
              "[272 rows x 5 columns]"
            ],
            "text/html": [
              "\n",
              "  <div id=\"df-57344d7c-fa4c-4638-bdfb-d8492ca44525\" class=\"colab-df-container\">\n",
              "    <div>\n",
              "<style scoped>\n",
              "    .dataframe tbody tr th:only-of-type {\n",
              "        vertical-align: middle;\n",
              "    }\n",
              "\n",
              "    .dataframe tbody tr th {\n",
              "        vertical-align: top;\n",
              "    }\n",
              "\n",
              "    .dataframe thead th {\n",
              "        text-align: right;\n",
              "    }\n",
              "</style>\n",
              "<table border=\"1\" class=\"dataframe\">\n",
              "  <thead>\n",
              "    <tr style=\"text-align: right;\">\n",
              "      <th></th>\n",
              "      <th>Movie_Genre</th>\n",
              "      <th>Movie_Keywords</th>\n",
              "      <th>Movie_Tagline</th>\n",
              "      <th>Movie_Cast</th>\n",
              "      <th>Movie_Director</th>\n",
              "    </tr>\n",
              "  </thead>\n",
              "  <tbody>\n",
              "    <tr>\n",
              "      <th>0</th>\n",
              "      <td>Crime Comedy</td>\n",
              "      <td>hotel new year's eve witch bet hotel room</td>\n",
              "      <td>Twelve outrageous guests. Four scandalous requ...</td>\n",
              "      <td>Tim Roth Antonio Banderas Jennifer Beals Madon...</td>\n",
              "      <td>Allison Anders</td>\n",
              "    </tr>\n",
              "    <tr>\n",
              "      <th>1</th>\n",
              "      <td>Adventure Action Science Fiction</td>\n",
              "      <td>android galaxy hermit death star lightsaber</td>\n",
              "      <td>A long time ago in a galaxy far, far away...</td>\n",
              "      <td>Mark Hamill Harrison Ford Carrie Fisher Peter ...</td>\n",
              "      <td>George Lucas</td>\n",
              "    </tr>\n",
              "    <tr>\n",
              "      <th>2</th>\n",
              "      <td>Animation Family</td>\n",
              "      <td>father son relationship harbor underwater fish...</td>\n",
              "      <td>There are 3.7 trillion fish in the ocean, they...</td>\n",
              "      <td>Albert Brooks Ellen DeGeneres Alexander Gould ...</td>\n",
              "      <td>Andrew Stanton</td>\n",
              "    </tr>\n",
              "    <tr>\n",
              "      <th>3</th>\n",
              "      <td>Comedy Drama Romance</td>\n",
              "      <td>vietnam veteran hippie mentally disabled runni...</td>\n",
              "      <td>The world will never be the same, once you've ...</td>\n",
              "      <td>Tom Hanks Robin Wright Gary Sinise Mykelti Wil...</td>\n",
              "      <td>Robert Zemeckis</td>\n",
              "    </tr>\n",
              "    <tr>\n",
              "      <th>4</th>\n",
              "      <td>Drama</td>\n",
              "      <td>male nudity female nudity adultery midlife cri...</td>\n",
              "      <td>Look closer.</td>\n",
              "      <td>Kevin Spacey Annette Bening Thora Birch Wes Be...</td>\n",
              "      <td>Sam Mendes</td>\n",
              "    </tr>\n",
              "    <tr>\n",
              "      <th>...</th>\n",
              "      <td>...</td>\n",
              "      <td>...</td>\n",
              "      <td>...</td>\n",
              "      <td>...</td>\n",
              "      <td>...</td>\n",
              "    </tr>\n",
              "    <tr>\n",
              "      <th>267</th>\n",
              "      <td>Drama History War</td>\n",
              "      <td>berlin poison dictator clerk ideology</td>\n",
              "      <td>April 1945, a nation awaits its...Downfall</td>\n",
              "      <td>Bruno Ganz Alexandra Maria Lara Corinna Harfou...</td>\n",
              "      <td>Oliver Hirschbiegel</td>\n",
              "    </tr>\n",
              "    <tr>\n",
              "      <th>268</th>\n",
              "      <td>Drama</td>\n",
              "      <td>christianity jewry roman empire jesus christ s...</td>\n",
              "      <td>By his wounds, we were healed.</td>\n",
              "      <td>Jim Caviezel Maia Morgenstern Monica Bellucci ...</td>\n",
              "      <td>Mel Gibson</td>\n",
              "    </tr>\n",
              "    <tr>\n",
              "      <th>269</th>\n",
              "      <td>Drama Action War History</td>\n",
              "      <td>japan war crimes sense of guilt swordplay general</td>\n",
              "      <td>In the face of an enemy, in the heart of one m...</td>\n",
              "      <td>Tom Cruise Ken Watanabe William Atherton Chad ...</td>\n",
              "      <td>Edward Zwick</td>\n",
              "    </tr>\n",
              "    <tr>\n",
              "      <th>270</th>\n",
              "      <td>Crime Drama Mystery</td>\n",
              "      <td>upper class poison sailboat rape sexual abuse</td>\n",
              "      <td>They're dying to play with you.</td>\n",
              "      <td>Matt Dillon Kevin Bacon Denise Richards Neve C...</td>\n",
              "      <td>John McNaughton</td>\n",
              "    </tr>\n",
              "    <tr>\n",
              "      <th>271</th>\n",
              "      <td>Thriller Action Drama Music Romance</td>\n",
              "      <td>sister sister relationship anonymous letter di...</td>\n",
              "      <td>Never let her out of your sigh</td>\n",
              "      <td></td>\n",
              "      <td></td>\n",
              "    </tr>\n",
              "  </tbody>\n",
              "</table>\n",
              "<p>272 rows × 5 columns</p>\n",
              "</div>\n",
              "    <div class=\"colab-df-buttons\">\n",
              "\n",
              "  <div class=\"colab-df-container\">\n",
              "    <button class=\"colab-df-convert\" onclick=\"convertToInteractive('df-57344d7c-fa4c-4638-bdfb-d8492ca44525')\"\n",
              "            title=\"Convert this dataframe to an interactive table.\"\n",
              "            style=\"display:none;\">\n",
              "\n",
              "  <svg xmlns=\"http://www.w3.org/2000/svg\" height=\"24px\" viewBox=\"0 -960 960 960\">\n",
              "    <path d=\"M120-120v-720h720v720H120Zm60-500h600v-160H180v160Zm220 220h160v-160H400v160Zm0 220h160v-160H400v160ZM180-400h160v-160H180v160Zm440 0h160v-160H620v160ZM180-180h160v-160H180v160Zm440 0h160v-160H620v160Z\"/>\n",
              "  </svg>\n",
              "    </button>\n",
              "\n",
              "  <style>\n",
              "    .colab-df-container {\n",
              "      display:flex;\n",
              "      gap: 12px;\n",
              "    }\n",
              "\n",
              "    .colab-df-convert {\n",
              "      background-color: #E8F0FE;\n",
              "      border: none;\n",
              "      border-radius: 50%;\n",
              "      cursor: pointer;\n",
              "      display: none;\n",
              "      fill: #1967D2;\n",
              "      height: 32px;\n",
              "      padding: 0 0 0 0;\n",
              "      width: 32px;\n",
              "    }\n",
              "\n",
              "    .colab-df-convert:hover {\n",
              "      background-color: #E2EBFA;\n",
              "      box-shadow: 0px 1px 2px rgba(60, 64, 67, 0.3), 0px 1px 3px 1px rgba(60, 64, 67, 0.15);\n",
              "      fill: #174EA6;\n",
              "    }\n",
              "\n",
              "    .colab-df-buttons div {\n",
              "      margin-bottom: 4px;\n",
              "    }\n",
              "\n",
              "    [theme=dark] .colab-df-convert {\n",
              "      background-color: #3B4455;\n",
              "      fill: #D2E3FC;\n",
              "    }\n",
              "\n",
              "    [theme=dark] .colab-df-convert:hover {\n",
              "      background-color: #434B5C;\n",
              "      box-shadow: 0px 1px 3px 1px rgba(0, 0, 0, 0.15);\n",
              "      filter: drop-shadow(0px 1px 2px rgba(0, 0, 0, 0.3));\n",
              "      fill: #FFFFFF;\n",
              "    }\n",
              "  </style>\n",
              "\n",
              "    <script>\n",
              "      const buttonEl =\n",
              "        document.querySelector('#df-57344d7c-fa4c-4638-bdfb-d8492ca44525 button.colab-df-convert');\n",
              "      buttonEl.style.display =\n",
              "        google.colab.kernel.accessAllowed ? 'block' : 'none';\n",
              "\n",
              "      async function convertToInteractive(key) {\n",
              "        const element = document.querySelector('#df-57344d7c-fa4c-4638-bdfb-d8492ca44525');\n",
              "        const dataTable =\n",
              "          await google.colab.kernel.invokeFunction('convertToInteractive',\n",
              "                                                    [key], {});\n",
              "        if (!dataTable) return;\n",
              "\n",
              "        const docLinkHtml = 'Like what you see? Visit the ' +\n",
              "          '<a target=\"_blank\" href=https://colab.research.google.com/notebooks/data_table.ipynb>data table notebook</a>'\n",
              "          + ' to learn more about interactive tables.';\n",
              "        element.innerHTML = '';\n",
              "        dataTable['output_type'] = 'display_data';\n",
              "        await google.colab.output.renderOutput(dataTable, element);\n",
              "        const docLink = document.createElement('div');\n",
              "        docLink.innerHTML = docLinkHtml;\n",
              "        element.appendChild(docLink);\n",
              "      }\n",
              "    </script>\n",
              "  </div>\n",
              "\n",
              "\n",
              "<div id=\"df-e3d5d8f9-dbc7-4771-8911-6ca083114a20\">\n",
              "  <button class=\"colab-df-quickchart\" onclick=\"quickchart('df-e3d5d8f9-dbc7-4771-8911-6ca083114a20')\"\n",
              "            title=\"Suggest charts.\"\n",
              "            style=\"display:none;\">\n",
              "\n",
              "<svg xmlns=\"http://www.w3.org/2000/svg\" height=\"24px\"viewBox=\"0 0 24 24\"\n",
              "     width=\"24px\">\n",
              "    <g>\n",
              "        <path d=\"M19 3H5c-1.1 0-2 .9-2 2v14c0 1.1.9 2 2 2h14c1.1 0 2-.9 2-2V5c0-1.1-.9-2-2-2zM9 17H7v-7h2v7zm4 0h-2V7h2v10zm4 0h-2v-4h2v4z\"/>\n",
              "    </g>\n",
              "</svg>\n",
              "  </button>\n",
              "\n",
              "<style>\n",
              "  .colab-df-quickchart {\n",
              "      --bg-color: #E8F0FE;\n",
              "      --fill-color: #1967D2;\n",
              "      --hover-bg-color: #E2EBFA;\n",
              "      --hover-fill-color: #174EA6;\n",
              "      --disabled-fill-color: #AAA;\n",
              "      --disabled-bg-color: #DDD;\n",
              "  }\n",
              "\n",
              "  [theme=dark] .colab-df-quickchart {\n",
              "      --bg-color: #3B4455;\n",
              "      --fill-color: #D2E3FC;\n",
              "      --hover-bg-color: #434B5C;\n",
              "      --hover-fill-color: #FFFFFF;\n",
              "      --disabled-bg-color: #3B4455;\n",
              "      --disabled-fill-color: #666;\n",
              "  }\n",
              "\n",
              "  .colab-df-quickchart {\n",
              "    background-color: var(--bg-color);\n",
              "    border: none;\n",
              "    border-radius: 50%;\n",
              "    cursor: pointer;\n",
              "    display: none;\n",
              "    fill: var(--fill-color);\n",
              "    height: 32px;\n",
              "    padding: 0;\n",
              "    width: 32px;\n",
              "  }\n",
              "\n",
              "  .colab-df-quickchart:hover {\n",
              "    background-color: var(--hover-bg-color);\n",
              "    box-shadow: 0 1px 2px rgba(60, 64, 67, 0.3), 0 1px 3px 1px rgba(60, 64, 67, 0.15);\n",
              "    fill: var(--button-hover-fill-color);\n",
              "  }\n",
              "\n",
              "  .colab-df-quickchart-complete:disabled,\n",
              "  .colab-df-quickchart-complete:disabled:hover {\n",
              "    background-color: var(--disabled-bg-color);\n",
              "    fill: var(--disabled-fill-color);\n",
              "    box-shadow: none;\n",
              "  }\n",
              "\n",
              "  .colab-df-spinner {\n",
              "    border: 2px solid var(--fill-color);\n",
              "    border-color: transparent;\n",
              "    border-bottom-color: var(--fill-color);\n",
              "    animation:\n",
              "      spin 1s steps(1) infinite;\n",
              "  }\n",
              "\n",
              "  @keyframes spin {\n",
              "    0% {\n",
              "      border-color: transparent;\n",
              "      border-bottom-color: var(--fill-color);\n",
              "      border-left-color: var(--fill-color);\n",
              "    }\n",
              "    20% {\n",
              "      border-color: transparent;\n",
              "      border-left-color: var(--fill-color);\n",
              "      border-top-color: var(--fill-color);\n",
              "    }\n",
              "    30% {\n",
              "      border-color: transparent;\n",
              "      border-left-color: var(--fill-color);\n",
              "      border-top-color: var(--fill-color);\n",
              "      border-right-color: var(--fill-color);\n",
              "    }\n",
              "    40% {\n",
              "      border-color: transparent;\n",
              "      border-right-color: var(--fill-color);\n",
              "      border-top-color: var(--fill-color);\n",
              "    }\n",
              "    60% {\n",
              "      border-color: transparent;\n",
              "      border-right-color: var(--fill-color);\n",
              "    }\n",
              "    80% {\n",
              "      border-color: transparent;\n",
              "      border-right-color: var(--fill-color);\n",
              "      border-bottom-color: var(--fill-color);\n",
              "    }\n",
              "    90% {\n",
              "      border-color: transparent;\n",
              "      border-bottom-color: var(--fill-color);\n",
              "    }\n",
              "  }\n",
              "</style>\n",
              "\n",
              "  <script>\n",
              "    async function quickchart(key) {\n",
              "      const quickchartButtonEl =\n",
              "        document.querySelector('#' + key + ' button');\n",
              "      quickchartButtonEl.disabled = true;  // To prevent multiple clicks.\n",
              "      quickchartButtonEl.classList.add('colab-df-spinner');\n",
              "      try {\n",
              "        const charts = await google.colab.kernel.invokeFunction(\n",
              "            'suggestCharts', [key], {});\n",
              "      } catch (error) {\n",
              "        console.error('Error during call to suggestCharts:', error);\n",
              "      }\n",
              "      quickchartButtonEl.classList.remove('colab-df-spinner');\n",
              "      quickchartButtonEl.classList.add('colab-df-quickchart-complete');\n",
              "    }\n",
              "    (() => {\n",
              "      let quickchartButtonEl =\n",
              "        document.querySelector('#df-e3d5d8f9-dbc7-4771-8911-6ca083114a20 button');\n",
              "      quickchartButtonEl.style.display =\n",
              "        google.colab.kernel.accessAllowed ? 'block' : 'none';\n",
              "    })();\n",
              "  </script>\n",
              "</div>\n",
              "    </div>\n",
              "  </div>\n"
            ]
          },
          "metadata": {},
          "execution_count": 37
        }
      ]
    },
    {
      "cell_type": "code",
      "source": [
        "x = df_features['Movie_Genre'] + ' ' + df_features['Movie_Keywords'] + ' ' + df_features['Movie_Tagline'] + ' ' +  df_features['Movie_Cast'] +  ' ' + df_features['Movie_Director']"
      ],
      "metadata": {
        "id": "nqnnUst1u8jE"
      },
      "execution_count": 39,
      "outputs": []
    },
    {
      "cell_type": "code",
      "source": [
        "x"
      ],
      "metadata": {
        "colab": {
          "base_uri": "https://localhost:8080/"
        },
        "id": "pFZmmlPJwviY",
        "outputId": "93cb98e9-12c8-460a-907a-e53842aa63e1"
      },
      "execution_count": 40,
      "outputs": [
        {
          "output_type": "execute_result",
          "data": {
            "text/plain": [
              "0      Crime Comedy hotel new year's eve witch bet ho...\n",
              "1      Adventure Action Science Fiction android galax...\n",
              "2      Animation Family father son relationship harbo...\n",
              "3      Comedy Drama Romance vietnam veteran hippie me...\n",
              "4      Drama male nudity female nudity adultery midli...\n",
              "                             ...                        \n",
              "267    Drama History War berlin poison dictator clerk...\n",
              "268    Drama christianity jewry roman empire jesus ch...\n",
              "269    Drama Action War History japan war crimes sens...\n",
              "270    Crime Drama Mystery upper class poison sailboa...\n",
              "271    Thriller Action Drama Music Romance sister sis...\n",
              "Length: 272, dtype: object"
            ]
          },
          "metadata": {},
          "execution_count": 40
        }
      ]
    },
    {
      "cell_type": "code",
      "source": [
        "x.shape"
      ],
      "metadata": {
        "colab": {
          "base_uri": "https://localhost:8080/"
        },
        "id": "Dv3mLsLAwzK0",
        "outputId": "5e3e1e81-db4b-4d8f-b26b-b40caab78932"
      },
      "execution_count": 41,
      "outputs": [
        {
          "output_type": "execute_result",
          "data": {
            "text/plain": [
              "(272,)"
            ]
          },
          "metadata": {},
          "execution_count": 41
        }
      ]
    },
    {
      "cell_type": "markdown",
      "source": [
        "<h1>Get Feature Text Conversion to Tokens<h1>"
      ],
      "metadata": {
        "id": "QytjxwTVw2DV"
      }
    },
    {
      "cell_type": "code",
      "source": [
        "from sklearn.feature_extraction.text import TfidfVectorizer"
      ],
      "metadata": {
        "id": "BmN8ilKVw8IS"
      },
      "execution_count": 42,
      "outputs": []
    },
    {
      "cell_type": "code",
      "source": [
        "tfidf = TfidfVectorizer()"
      ],
      "metadata": {
        "id": "Ox8kmJgdxjwh"
      },
      "execution_count": 43,
      "outputs": []
    },
    {
      "cell_type": "code",
      "source": [
        "x = tfidf.fit_transform(x)"
      ],
      "metadata": {
        "id": "0y0rnTMoxsTb"
      },
      "execution_count": 45,
      "outputs": []
    },
    {
      "cell_type": "code",
      "source": [
        "x.shape"
      ],
      "metadata": {
        "colab": {
          "base_uri": "https://localhost:8080/"
        },
        "id": "DvQ3HOc-xzWp",
        "outputId": "9515c34e-a89e-4fe3-c331-451d0d0f5b34"
      },
      "execution_count": 46,
      "outputs": [
        {
          "output_type": "execute_result",
          "data": {
            "text/plain": [
              "(272, 3174)"
            ]
          },
          "metadata": {},
          "execution_count": 46
        }
      ]
    },
    {
      "cell_type": "code",
      "source": [
        "print(x)"
      ],
      "metadata": {
        "colab": {
          "base_uri": "https://localhost:8080/"
        },
        "id": "M0CiXzoHx3rJ",
        "outputId": "1ab43871-754c-48d4-a5d0-64b219dab681"
      },
      "execution_count": 47,
      "outputs": [
        {
          "output_type": "stream",
          "name": "stdout",
          "text": [
            "  (0, 94)\t0.16151382893476612\n",
            "  (0, 75)\t0.16151382893476612\n",
            "  (0, 2818)\t0.16151382893476612\n",
            "  (0, 1789)\t0.16151382893476612\n",
            "  (0, 1751)\t0.16151382893476612\n",
            "  (0, 227)\t0.15044475710795777\n",
            "  (0, 1445)\t0.13152205383524862\n",
            "  (0, 202)\t0.16151382893476612\n",
            "  (0, 124)\t0.16151382893476612\n",
            "  (0, 2390)\t0.15044475710795777\n",
            "  (0, 2801)\t0.10650760074783737\n",
            "  (0, 1665)\t0.08851039933221591\n",
            "  (0, 2047)\t0.06406669226289037\n",
            "  (0, 3079)\t0.16151382893476612\n",
            "  (0, 1011)\t0.09732201293668222\n",
            "  (0, 3069)\t0.11757667257464571\n",
            "  (0, 1460)\t0.14259112566205698\n",
            "  (0, 2771)\t0.10276061886983863\n",
            "  (0, 2061)\t0.07775693437508759\n",
            "  (0, 709)\t0.12731378803619972\n",
            "  (0, 990)\t0.12045298200844029\n",
            "  (0, 1301)\t0.21301520149567474\n",
            "  (0, 1378)\t0.15303165129663973\n",
            "  (0, 253)\t0.16151382893476612\n",
            "  (0, 1697)\t0.16151382893476612\n",
            "  :\t:\n",
            "  (270, 3153)\t0.11982174165888336\n",
            "  (270, 808)\t0.06520317536520992\n",
            "  (270, 2280)\t0.17471625345932248\n",
            "  (270, 2782)\t0.1667700912523648\n",
            "  (270, 648)\t0.09292831324773035\n",
            "  (271, 2552)\t0.26424046902006854\n",
            "  (271, 1650)\t0.26424046902006854\n",
            "  (271, 180)\t0.26424046902006854\n",
            "  (271, 2079)\t0.26424046902006854\n",
            "  (271, 320)\t0.26424046902006854\n",
            "  (271, 776)\t0.26424046902006854\n",
            "  (271, 1652)\t0.26424046902006854\n",
            "  (271, 119)\t0.26424046902006854\n",
            "  (271, 2568)\t0.430346421988985\n",
            "  (271, 1277)\t0.20828838796828017\n",
            "  (271, 3155)\t0.180640275089768\n",
            "  (271, 2795)\t0.09838141148626106\n",
            "  (271, 1958)\t0.17424897026729322\n",
            "  (271, 2085)\t0.19235823527836546\n",
            "  (271, 1998)\t0.1970639459834203\n",
            "  (271, 2374)\t0.12420006958378038\n",
            "  (271, 808)\t0.07354321520584096\n",
            "  (271, 2306)\t0.15143399455116618\n",
            "  (271, 21)\t0.09784003585174796\n",
            "  (271, 2047)\t0.10481463366798152\n"
          ]
        }
      ]
    },
    {
      "cell_type": "markdown",
      "source": [
        "<h1>Get Similarity Score Using Cosine Similarity</h1>"
      ],
      "metadata": {
        "id": "v2V8MjGuzHo8"
      }
    },
    {
      "cell_type": "markdown",
      "source": [],
      "metadata": {
        "id": "MmoGcmgkzPPp"
      }
    },
    {
      "cell_type": "code",
      "source": [
        "from sklearn.metrics.pairwise import cosine_similarity"
      ],
      "metadata": {
        "id": "5BIE_uiMzQ27"
      },
      "execution_count": 69,
      "outputs": []
    },
    {
      "cell_type": "code",
      "source": [
        "Similarity_Score = cosine_similarity(x)"
      ],
      "metadata": {
        "id": "8WceQoa5zXmn"
      },
      "execution_count": 70,
      "outputs": []
    },
    {
      "cell_type": "code",
      "source": [
        "Similarity_Score"
      ],
      "metadata": {
        "colab": {
          "base_uri": "https://localhost:8080/"
        },
        "id": "pdqXj-0iziyM",
        "outputId": "a32ff80e-196d-4dc5-cb90-b1caf10a680d"
      },
      "execution_count": 71,
      "outputs": [
        {
          "output_type": "execute_result",
          "data": {
            "text/plain": [
              "array([[1.        , 0.01485375, 0.04164548, ..., 0.07594691, 0.00595361,\n",
              "        0.00671513],\n",
              "       [0.01485375, 1.        , 0.00887977, ..., 0.02299334, 0.        ,\n",
              "        0.00742245],\n",
              "       [0.04164548, 0.00887977, 1.        , ..., 0.03969736, 0.04808746,\n",
              "        0.01675919],\n",
              "       ...,\n",
              "       [0.07594691, 0.02299334, 0.03969736, ..., 1.        , 0.00347562,\n",
              "        0.04270959],\n",
              "       [0.00595361, 0.        , 0.04808746, ..., 0.00347562, 1.        ,\n",
              "        0.00479525],\n",
              "       [0.00671513, 0.00742245, 0.01675919, ..., 0.04270959, 0.00479525,\n",
              "        1.        ]])"
            ]
          },
          "metadata": {},
          "execution_count": 71
        }
      ]
    },
    {
      "cell_type": "code",
      "source": [
        "Similarity_Score.shape"
      ],
      "metadata": {
        "colab": {
          "base_uri": "https://localhost:8080/"
        },
        "id": "3zHeHsv40E4o",
        "outputId": "cbefcd85-ec07-469d-f608-bd6ab849a009"
      },
      "execution_count": 72,
      "outputs": [
        {
          "output_type": "execute_result",
          "data": {
            "text/plain": [
              "(272, 272)"
            ]
          },
          "metadata": {},
          "execution_count": 72
        }
      ]
    },
    {
      "cell_type": "markdown",
      "source": [
        "<h1>Get Movie Name as Input from User and Validate for Closest Spelling</h1>"
      ],
      "metadata": {
        "id": "V9FNBxTc0ifD"
      }
    },
    {
      "cell_type": "code",
      "source": [
        "Favourite_Movie_Name = input(\" Enter your favourite movie name :\")"
      ],
      "metadata": {
        "colab": {
          "base_uri": "https://localhost:8080/"
        },
        "id": "P9xwDe0K0lPV",
        "outputId": "1ce33d3c-b51f-4146-b194-3f2db34264e8"
      },
      "execution_count": 81,
      "outputs": [
        {
          "name": "stdout",
          "output_type": "stream",
          "text": [
            " Enter your favourite movie name :Four Rooms\n"
          ]
        }
      ]
    },
    {
      "cell_type": "code",
      "source": [
        "All_Movies_Title_List=df[\"Movie_Title\"].tolist()"
      ],
      "metadata": {
        "id": "q4NFD7A-05Pi"
      },
      "execution_count": 82,
      "outputs": []
    },
    {
      "cell_type": "code",
      "source": [
        "import difflib"
      ],
      "metadata": {
        "id": "Jk8SA7Y41GS9"
      },
      "execution_count": 83,
      "outputs": []
    },
    {
      "cell_type": "code",
      "source": [
        "Movie_Recommendation = difflib.get_close_matches(Favourite_Movie_Name, All_Movies_Title_List)\n",
        "print(Movie_Recommendation)"
      ],
      "metadata": {
        "colab": {
          "base_uri": "https://localhost:8080/"
        },
        "id": "qZqzrFol1IjG",
        "outputId": "6e3f1925-3af7-46fd-a4a2-3f9b84db3496"
      },
      "execution_count": 84,
      "outputs": [
        {
          "output_type": "stream",
          "name": "stdout",
          "text": [
            "['Four Rooms']\n"
          ]
        }
      ]
    },
    {
      "cell_type": "code",
      "source": [
        "Close_Match = Movie_Recommendation[0]\n",
        "print(Close_Match)"
      ],
      "metadata": {
        "colab": {
          "base_uri": "https://localhost:8080/"
        },
        "id": "vAJ8pG-p12ji",
        "outputId": "e999747c-c786-4c79-9dd8-9fea8d73383d"
      },
      "execution_count": 85,
      "outputs": [
        {
          "output_type": "stream",
          "name": "stdout",
          "text": [
            "Four Rooms\n"
          ]
        }
      ]
    },
    {
      "cell_type": "code",
      "source": [
        "Index_of_Close_Match_Movie = df[df.Movie_Title == Close_Match]['Movie_ID'].values[0]\n",
        "print(Index_of_Close_Match_Movie)"
      ],
      "metadata": {
        "colab": {
          "base_uri": "https://localhost:8080/"
        },
        "id": "BpzzxPZ_3DZ2",
        "outputId": "e4c31de6-82a7-4fea-ebf6-e95c09e36b84"
      },
      "execution_count": 86,
      "outputs": [
        {
          "output_type": "stream",
          "name": "stdout",
          "text": [
            "1\n"
          ]
        }
      ]
    },
    {
      "cell_type": "code",
      "source": [
        "Recommendation_Score = list(enumerate(Similarity_Score[Index_of_Close_Match_Movie]))\n",
        "print(Recommendation_Score)"
      ],
      "metadata": {
        "colab": {
          "base_uri": "https://localhost:8080/"
        },
        "id": "oXBMfL003owY",
        "outputId": "f640d305-75e8-4c8e-d0ba-f34b8374e288"
      },
      "execution_count": 87,
      "outputs": [
        {
          "output_type": "stream",
          "name": "stdout",
          "text": [
            "[(0, 0.014853746184622737), (1, 1.0000000000000002), (2, 0.00887977228182446), (3, 0.0), (4, 0.0), (5, 0.018410367003519217), (6, 0.03343649373197639), (7, 0.014589175130752436), (8, 0.023318021449742668), (9, 0.013272582509446136), (10, 0.006846762697256978), (11, 0.05514339899976203), (12, 0.023594804557804015), (13, 0.0), (14, 0.0), (15, 0.044109138456416216), (16, 0.01855635805792383), (17, 0.015266031438032839), (18, 0.0), (19, 0.034239716456993724), (20, 0.0), (21, 0.0), (22, 0.018593146608679178), (23, 0.0), (24, 0.012730850622394638), (25, 0.0), (26, 0.0), (27, 0.02593328636515687), (28, 0.018618047065838365), (29, 0.0), (30, 0.06249122155873918), (31, 0.09690010782359146), (32, 0.01245561440387944), (33, 0.03312452452804497), (34, 0.0), (35, 0.09324564234726457), (36, 0.06519480148691867), (37, 0.08013150049301133), (38, 0.007310503731757692), (39, 0.03228984901788887), (40, 0.007210988669644716), (41, 0.015019982858382255), (42, 0.0), (43, 0.025566230369702785), (44, 0.005498968594302825), (45, 0.023698768462435984), (46, 0.030953192723861416), (47, 0.0), (48, 0.007140532737683986), (49, 0.0), (50, 0.0), (51, 0.0), (52, 0.0), (53, 0.0073039190665169585), (54, 0.03366622039958096), (55, 0.034944775800257274), (56, 0.03345384898795771), (57, 0.006732043763520656), (58, 0.006879663570628876), (59, 0.03149088367250305), (60, 0.0), (61, 0.08541879818037859), (62, 0.0), (63, 0.01149146095167454), (64, 0.01798496542697909), (65, 0.056819000734435535), (66, 0.0), (67, 0.05023446653165557), (68, 0.006797911450978337), (69, 0.06314945728779732), (70, 0.031154766930354023), (71, 0.0), (72, 0.018549363983663653), (73, 0.02317316263158622), (74, 0.019700009358612155), (75, 0.07093370489604879), (76, 0.04415727000282718), (77, 0.013758918228830441), (78, 0.05592777200437704), (79, 0.04526959800077168), (80, 0.051961567770926705), (81, 0.0), (82, 0.0), (83, 0.0), (84, 0.023995336059728548), (85, 0.017879152867617206), (86, 0.008985558623470497), (87, 0.028998817778413913), (88, 0.013372570186964921), (89, 0.0), (90, 0.05568952482745059), (91, 0.10255439137635013), (92, 0.014432265910134951), (93, 0.035978337390265604), (94, 0.032058327085038155), (95, 0.036344621024189235), (96, 0.018459801003980408), (97, 0.016626202619281924), (98, 0.016932411108751818), (99, 0.0), (100, 0.0), (101, 0.07860405396455869), (102, 0.039505263477270694), (103, 0.0), (104, 0.018131123811700303), (105, 0.01715230172669332), (106, 0.01583754645403034), (107, 0.020328700492169168), (108, 0.015465503578462237), (109, 0.021868881035785142), (110, 0.018449039707329834), (111, 0.019792636529432812), (112, 0.020858904327646446), (113, 0.008423752643823614), (114, 0.0), (115, 0.0385055177866457), (116, 0.0), (117, 0.018525871751393804), (118, 0.013396360036566253), (119, 0.02879468047270437), (120, 0.0), (121, 0.009488545961447476), (122, 0.016398020756489294), (123, 0.006813654534389491), (124, 0.0), (125, 0.007062241578391112), (126, 0.02774961960405309), (127, 0.0), (128, 0.027842336193091285), (129, 0.0), (130, 0.020204157923748207), (131, 0.0), (132, 0.009847050193087249), (133, 0.0), (134, 0.0), (135, 0.02602648941190983), (136, 0.019229432833934773), (137, 0.018411793292529975), (138, 0.0), (139, 0.0071521189928725), (140, 0.0), (141, 0.010894730686797974), (142, 0.018326423977564326), (143, 0.017165226050445896), (144, 0.005824854830796595), (145, 0.0), (146, 0.01861466030853485), (147, 0.0), (148, 0.02386691445628568), (149, 0.0), (150, 0.045685616449910586), (151, 0.03520210814244857), (152, 0.06400772406241133), (153, 0.05699548603992126), (154, 0.0), (155, 0.0075942798732141145), (156, 0.00916119889559199), (157, 0.0), (158, 0.01948312451075056), (159, 0.0055467557916750836), (160, 0.0637593203581094), (161, 0.0), (162, 0.006916418508561719), (163, 0.0), (164, 0.0), (165, 0.013091849827741132), (166, 0.0), (167, 0.0497834453000016), (168, 0.008275227538583067), (169, 0.0), (170, 0.005866140785117496), (171, 0.032813126883290855), (172, 0.010643271990940228), (173, 0.0), (174, 0.01705195518445691), (175, 0.0), (176, 0.0), (177, 0.0), (178, 0.010650148901477828), (179, 0.007215048203676715), (180, 0.006557716944433817), (181, 0.025072675068258318), (182, 0.007519221852434744), (183, 0.0), (184, 0.0), (185, 0.00665434312909299), (186, 0.0), (187, 0.01692675435127894), (188, 0.0), (189, 0.034740709023410726), (190, 0.0), (191, 0.03332564839956359), (192, 0.0), (193, 0.0), (194, 0.0347737201922996), (195, 0.0), (196, 0.0), (197, 0.0), (198, 0.0), (199, 0.019442388835916296), (200, 0.028173170376173565), (201, 0.014069624179439143), (202, 0.0072830618756440785), (203, 0.019066576172927247), (204, 0.0), (205, 0.0), (206, 0.0), (207, 0.0), (208, 0.05458816075500823), (209, 0.0), (210, 0.00714516640769027), (211, 0.0), (212, 0.03889809438195652), (213, 0.0), (214, 0.0), (215, 0.0), (216, 0.0), (217, 0.005789551902025407), (218, 0.016082805401682193), (219, 0.024279620010227133), (220, 0.026883261831835394), (221, 0.0), (222, 0.0), (223, 0.01591284449192205), (224, 0.0), (225, 0.01102156593680976), (226, 0.0), (227, 0.0), (228, 0.007689585647823958), (229, 0.0), (230, 0.006139478992838565), (231, 0.02495314114614187), (232, 0.015057867003805462), (233, 0.006372116413308198), (234, 0.029909219853418163), (235, 0.02448159550790649), (236, 0.03819231558435924), (237, 0.04286074947064369), (238, 0.0), (239, 0.019916801846281196), (240, 0.009716920093029437), (241, 0.05033448852234312), (242, 0.00656350495518705), (243, 0.0), (244, 0.005805802517300407), (245, 0.0), (246, 0.0), (247, 0.014304545733645205), (248, 0.0), (249, 0.055943711818999174), (250, 0.0), (251, 0.07304480867376956), (252, 0.026053639684629277), (253, 0.0), (254, 0.0), (255, 0.03632578984884748), (256, 0.0), (257, 0.037138539048264), (258, 0.03212829579312722), (259, 0.05823738156848359), (260, 0.0639107849708935), (261, 0.061858667459442136), (262, 0.0), (263, 0.030921986179929098), (264, 0.03285761907867416), (265, 0.021075092314601647), (266, 0.013039303639115422), (267, 0.0), (268, 0.0), (269, 0.02299333976376184), (270, 0.0), (271, 0.0074224461044466805)]\n"
          ]
        }
      ]
    },
    {
      "cell_type": "code",
      "source": [
        "len(Recommendation_Score)"
      ],
      "metadata": {
        "colab": {
          "base_uri": "https://localhost:8080/"
        },
        "id": "YFiqj7Ee4CS2",
        "outputId": "6c41f0b1-c6ab-47b2-e2ca-804ab40a44d8"
      },
      "execution_count": 88,
      "outputs": [
        {
          "output_type": "execute_result",
          "data": {
            "text/plain": [
              "272"
            ]
          },
          "metadata": {},
          "execution_count": 88
        }
      ]
    },
    {
      "cell_type": "markdown",
      "source": [
        "<h1>Get All Movies Sort Based on Recommendation Score wrt Facourite Movie</h1>"
      ],
      "metadata": {
        "id": "aaLLr9x55KmA"
      }
    },
    {
      "cell_type": "code",
      "source": [
        "Sorted_Similar_Movies = sorted(Recommendation_Score, key = lambda x:x[1], reverse=True)\n",
        "\n",
        "print(Sorted_Similar_Movies)"
      ],
      "metadata": {
        "colab": {
          "base_uri": "https://localhost:8080/"
        },
        "id": "iPFQ3zHT5TXt",
        "outputId": "37ceaf8f-d481-4c97-db3d-0b98410d7d2f"
      },
      "execution_count": 90,
      "outputs": [
        {
          "output_type": "stream",
          "name": "stdout",
          "text": [
            "[(1, 1.0000000000000002), (91, 0.10255439137635013), (31, 0.09690010782359146), (35, 0.09324564234726457), (61, 0.08541879818037859), (37, 0.08013150049301133), (101, 0.07860405396455869), (251, 0.07304480867376956), (75, 0.07093370489604879), (36, 0.06519480148691867), (152, 0.06400772406241133), (260, 0.0639107849708935), (160, 0.0637593203581094), (69, 0.06314945728779732), (30, 0.06249122155873918), (261, 0.061858667459442136), (259, 0.05823738156848359), (153, 0.05699548603992126), (65, 0.056819000734435535), (249, 0.055943711818999174), (78, 0.05592777200437704), (90, 0.05568952482745059), (11, 0.05514339899976203), (208, 0.05458816075500823), (80, 0.051961567770926705), (241, 0.05033448852234312), (67, 0.05023446653165557), (167, 0.0497834453000016), (150, 0.045685616449910586), (79, 0.04526959800077168), (76, 0.04415727000282718), (15, 0.044109138456416216), (237, 0.04286074947064369), (102, 0.039505263477270694), (212, 0.03889809438195652), (115, 0.0385055177866457), (236, 0.03819231558435924), (257, 0.037138539048264), (95, 0.036344621024189235), (255, 0.03632578984884748), (93, 0.035978337390265604), (151, 0.03520210814244857), (55, 0.034944775800257274), (194, 0.0347737201922996), (189, 0.034740709023410726), (19, 0.034239716456993724), (54, 0.03366622039958096), (56, 0.03345384898795771), (6, 0.03343649373197639), (191, 0.03332564839956359), (33, 0.03312452452804497), (264, 0.03285761907867416), (171, 0.032813126883290855), (39, 0.03228984901788887), (258, 0.03212829579312722), (94, 0.032058327085038155), (59, 0.03149088367250305), (70, 0.031154766930354023), (46, 0.030953192723861416), (263, 0.030921986179929098), (234, 0.029909219853418163), (87, 0.028998817778413913), (119, 0.02879468047270437), (200, 0.028173170376173565), (128, 0.027842336193091285), (126, 0.02774961960405309), (220, 0.026883261831835394), (252, 0.026053639684629277), (135, 0.02602648941190983), (27, 0.02593328636515687), (43, 0.025566230369702785), (181, 0.025072675068258318), (231, 0.02495314114614187), (235, 0.02448159550790649), (219, 0.024279620010227133), (84, 0.023995336059728548), (148, 0.02386691445628568), (45, 0.023698768462435984), (12, 0.023594804557804015), (8, 0.023318021449742668), (73, 0.02317316263158622), (269, 0.02299333976376184), (109, 0.021868881035785142), (265, 0.021075092314601647), (112, 0.020858904327646446), (107, 0.020328700492169168), (130, 0.020204157923748207), (239, 0.019916801846281196), (111, 0.019792636529432812), (74, 0.019700009358612155), (158, 0.01948312451075056), (199, 0.019442388835916296), (136, 0.019229432833934773), (203, 0.019066576172927247), (28, 0.018618047065838365), (146, 0.01861466030853485), (22, 0.018593146608679178), (16, 0.01855635805792383), (72, 0.018549363983663653), (117, 0.018525871751393804), (96, 0.018459801003980408), (110, 0.018449039707329834), (137, 0.018411793292529975), (5, 0.018410367003519217), (142, 0.018326423977564326), (104, 0.018131123811700303), (64, 0.01798496542697909), (85, 0.017879152867617206), (143, 0.017165226050445896), (105, 0.01715230172669332), (174, 0.01705195518445691), (98, 0.016932411108751818), (187, 0.01692675435127894), (97, 0.016626202619281924), (122, 0.016398020756489294), (218, 0.016082805401682193), (223, 0.01591284449192205), (106, 0.01583754645403034), (108, 0.015465503578462237), (17, 0.015266031438032839), (232, 0.015057867003805462), (41, 0.015019982858382255), (0, 0.014853746184622737), (7, 0.014589175130752436), (92, 0.014432265910134951), (247, 0.014304545733645205), (201, 0.014069624179439143), (77, 0.013758918228830441), (118, 0.013396360036566253), (88, 0.013372570186964921), (9, 0.013272582509446136), (165, 0.013091849827741132), (266, 0.013039303639115422), (24, 0.012730850622394638), (32, 0.01245561440387944), (63, 0.01149146095167454), (225, 0.01102156593680976), (141, 0.010894730686797974), (178, 0.010650148901477828), (172, 0.010643271990940228), (132, 0.009847050193087249), (240, 0.009716920093029437), (121, 0.009488545961447476), (156, 0.00916119889559199), (86, 0.008985558623470497), (2, 0.00887977228182446), (113, 0.008423752643823614), (168, 0.008275227538583067), (228, 0.007689585647823958), (155, 0.0075942798732141145), (182, 0.007519221852434744), (271, 0.0074224461044466805), (38, 0.007310503731757692), (53, 0.0073039190665169585), (202, 0.0072830618756440785), (179, 0.007215048203676715), (40, 0.007210988669644716), (139, 0.0071521189928725), (210, 0.00714516640769027), (48, 0.007140532737683986), (125, 0.007062241578391112), (162, 0.006916418508561719), (58, 0.006879663570628876), (10, 0.006846762697256978), (123, 0.006813654534389491), (68, 0.006797911450978337), (57, 0.006732043763520656), (185, 0.00665434312909299), (242, 0.00656350495518705), (180, 0.006557716944433817), (233, 0.006372116413308198), (230, 0.006139478992838565), (170, 0.005866140785117496), (144, 0.005824854830796595), (244, 0.005805802517300407), (217, 0.005789551902025407), (159, 0.0055467557916750836), (44, 0.005498968594302825), (3, 0.0), (4, 0.0), (13, 0.0), (14, 0.0), (18, 0.0), (20, 0.0), (21, 0.0), (23, 0.0), (25, 0.0), (26, 0.0), (29, 0.0), (34, 0.0), (42, 0.0), (47, 0.0), (49, 0.0), (50, 0.0), (51, 0.0), (52, 0.0), (60, 0.0), (62, 0.0), (66, 0.0), (71, 0.0), (81, 0.0), (82, 0.0), (83, 0.0), (89, 0.0), (99, 0.0), (100, 0.0), (103, 0.0), (114, 0.0), (116, 0.0), (120, 0.0), (124, 0.0), (127, 0.0), (129, 0.0), (131, 0.0), (133, 0.0), (134, 0.0), (138, 0.0), (140, 0.0), (145, 0.0), (147, 0.0), (149, 0.0), (154, 0.0), (157, 0.0), (161, 0.0), (163, 0.0), (164, 0.0), (166, 0.0), (169, 0.0), (173, 0.0), (175, 0.0), (176, 0.0), (177, 0.0), (183, 0.0), (184, 0.0), (186, 0.0), (188, 0.0), (190, 0.0), (192, 0.0), (193, 0.0), (195, 0.0), (196, 0.0), (197, 0.0), (198, 0.0), (204, 0.0), (205, 0.0), (206, 0.0), (207, 0.0), (209, 0.0), (211, 0.0), (213, 0.0), (214, 0.0), (215, 0.0), (216, 0.0), (221, 0.0), (222, 0.0), (224, 0.0), (226, 0.0), (227, 0.0), (229, 0.0), (238, 0.0), (243, 0.0), (245, 0.0), (246, 0.0), (248, 0.0), (250, 0.0), (253, 0.0), (254, 0.0), (256, 0.0), (262, 0.0), (267, 0.0), (268, 0.0), (270, 0.0)]\n"
          ]
        }
      ]
    },
    {
      "cell_type": "code",
      "source": [
        "print(\"Top 30 Movies Suggested for You: \\n\")\n",
        "i = 1\n",
        "for movie in Sorted_Similar_Movies:\n",
        "  index = movie[0]\n",
        "  title_from_index = df[df.index==index]['Movie_Title'].values[0]\n",
        "  if (i<31):\n",
        "    print(i,'.',title_from_index)\n",
        "    i+=1\n",
        "\n"
      ],
      "metadata": {
        "colab": {
          "base_uri": "https://localhost:8080/"
        },
        "id": "9Qdleu-Q5hYX",
        "outputId": "d31feed9-9986-472b-e6cb-7db2a89c216b"
      },
      "execution_count": 94,
      "outputs": [
        {
          "output_type": "stream",
          "name": "stdout",
          "text": [
            "Top 30 Movies Suggested for You: \n",
            "\n",
            "1 . Star Wars\n",
            "2 . Back to the Future Part III\n",
            "3 . Blade Runner\n",
            "4 . Raiders of the Lost Ark\n",
            "5 . Donnie Darko\n",
            "6 . Indiana Jones and the Last Crusade\n",
            "7 . Indiana Jones and the Kingdom of the Crystal Skull\n",
            "8 . The Conversation\n",
            "9 . Star Trek IV: The Voyage Home\n",
            "10 . Indiana Jones and the Temple of Doom\n",
            "11 . Jurassic Park III\n",
            "12 . The Matrix Reloaded\n",
            "13 . Alien\n",
            "14 . Star Trek III: The Search for Spock\n",
            "15 . Memento\n",
            "16 . The Matrix Revolutions\n",
            "17 . The Matrix\n",
            "18 . Inspector Gadget\n",
            "19 . Star Trek: The Motion Picture\n",
            "20 . The Hours\n",
            "21 . Star Trek V: The Final Frontier\n",
            "22 . Star Trek: Generations\n",
            "23 . Jarhead\n",
            "24 . Poseidon\n",
            "25 . Star Trek VI: The Undiscovered Country\n",
            "26 . Jaws: The Revenge\n",
            "27 . Star Trek II: The Wrath of Khan\n",
            "28 . 12 Angry Men\n",
            "29 . Jurassic Park\n",
            "30 . 20,000 Leagues Under the Sea\n"
          ]
        }
      ]
    },
    {
      "cell_type": "markdown",
      "source": [
        "<h1>Top 10 Moviw Recommendation System</h1>"
      ],
      "metadata": {
        "id": "GwAP5lB37Dmp"
      }
    },
    {
      "cell_type": "code",
      "source": [
        "Movie_Name = input(\" Enter your favourite movie name :\")\n",
        "\n",
        "list_of_all_titles = df['Movie_Title'].tolist()\n",
        "\n",
        "Find_Close_Match = difflib.get_close_matches(Movie_Name, list_of_all_titles)\n",
        "\n",
        "Close_Match =  Find_Close_Match[0]\n",
        "\n",
        "Index_of_Movie = df[df.Movie_Title == Close_Match]['Movie_ID'].values[0]\n",
        "\n",
        "Recommendation_Score = list(enumerate(Similarity_Score[Index_of_Movie]))\n",
        "\n",
        "sorted_similar_movies = sorted(Recommendation_Score ,key = lambda x:x[1], reverse = True)\n",
        "\n",
        "print(\"Top 10 Movies suggested for you: \\n\")\n",
        "\n",
        "i=1\n",
        "\n",
        "#Score, key lambda x:x[1], reverse=True)\n",
        "\n",
        "for movie in sorted_similar_movies:\n",
        "    index = movie[0]  # Corrected the typo \"indexde\" to \"index\"\n",
        "\n",
        "    # Assuming df is your DataFrame containing movie data\n",
        "    title_from_index = df[df.Movie_ID == index]['Movie_Title'].values # Corrected the typo \"Movie Title\" to \"Movie_Title\"\n",
        "\n",
        "    if (i<11):  # Corrected \"(1c11)\" to a valid condition\n",
        "        print(i, '.',title_from_index)\n",
        "        i+=1\n",
        "\n",
        "\n"
      ],
      "metadata": {
        "colab": {
          "base_uri": "https://localhost:8080/"
        },
        "id": "4OyVqvXT7Jy4",
        "outputId": "22c75b30-5f31-4ca6-e0b8-4a6b20a338b5"
      },
      "execution_count": 108,
      "outputs": [
        {
          "output_type": "stream",
          "name": "stdout",
          "text": [
            " Enter your favourite movie name :star wars\n",
            "Top 10 Movies suggested for you: \n",
            "\n",
            "1 . ['Star Wars']\n",
            "2 . ['Wag the Dog']\n",
            "3 . [\"Boys Don't Cry\"]\n",
            "4 . ['Fight Club']\n",
            "5 . ['Snow White and the Seven Dwarfs']\n",
            "6 . [\"Schindler's List\"]\n",
            "7 . ['Unforgiven']\n",
            "8 . ['Batman & Robin']\n",
            "9 . ['The English Patient']\n",
            "10 . ['As It Is in Heaven']\n"
          ]
        }
      ]
    }
  ]
}